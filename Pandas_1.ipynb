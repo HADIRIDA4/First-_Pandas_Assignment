{
 "cells": [
  {
   "cell_type": "markdown",
   "metadata": {},
   "source": [
    " # THE ANALYSIS OF HOUSE SALES \n",
    " ## (KING COUNTY USA)\n",
    " "
   ]
  },
  {
   "cell_type": "markdown",
   "metadata": {},
   "source": [
    "### Loading the data "
   ]
  },
  {
   "cell_type": "code",
   "execution_count": 117,
   "metadata": {},
   "outputs": [],
   "source": [
    "import pandas as pd \n",
    "df=pd.read_csv(r\"C:\\Users\\Lenovo\\Desktop\\Pandas\\kc_house_data.csv\")"
   ]
  },
  {
   "cell_type": "markdown",
   "metadata": {},
   "source": [
    "### EXPLORING THE VARIABLES\n",
    "In this dataset, there are 21 different  variables which are  information for each house. These pieces of information describe different aspects of the houses, like their price, size, design, view, history, and location. Each house has its own set of these characteristics. One of the pieces of information is the house's ID, which is like its special code. So, we can use these details to understand and compare the houses better.\n",
    "1.\tid: identifier for each house listing.\n",
    "2.\tdate: Date when the house listing was recorded.\n",
    "3.\tprice: Price of the house.\n",
    "4.\tbedrooms: Number of bedrooms in the house.\n",
    "5.\tbathrooms: Number of bathrooms in the house (including fractional values which may include the presence of different types of bathrooms).\n",
    "6.\tsqft_living: Square footage of the living space in the house.\n",
    "7.\tsqft_lot: Square footage of  the house is situated on.\n",
    "8.\tfloors: Number of floors in the house(may have semi floors such as atic or only balcony).\n",
    "9.\twaterfront: Indicates whether the house is waterfront property .\n",
    "10.\tview: Level of view from the house .\n",
    "11.\tcondition: Condition of the house .\n",
    "12.\tgrade: Grade of the house .\n",
    "13.\tsqft_above: Square footage of the house above ground level.\n",
    "14.\tsqft_basement: Square footage of the basement in the house.\n",
    "15.\tyr_built: Year the house was built.\n",
    "16.\tyr_renovated: Year the house was last renovated .\n",
    "17.\tzipcode: Zip code of the area where the house is located.\n",
    "18.\tlat: Latitude coordinate of the house location.\n",
    "19.\tlong: Longitude coordinate of the house location.\n",
    "20.\tsqft_living15: Square footage of the living space of the nearest 15 neighbors.\n",
    "21.\tsqft_lot15: Square footage of the lot of the nearest 15 neighbors.\n",
    "\n"
   ]
  },
  {
   "cell_type": "code",
   "execution_count": 118,
   "metadata": {},
   "outputs": [
    {
     "name": "stdout",
     "output_type": "stream",
     "text": [
      "<class 'pandas.core.frame.DataFrame'>\n",
      "RangeIndex: 21613 entries, 0 to 21612\n",
      "Data columns (total 21 columns):\n",
      " #   Column         Non-Null Count  Dtype  \n",
      "---  ------         --------------  -----  \n",
      " 0   id             21613 non-null  int64  \n",
      " 1   date           21613 non-null  object \n",
      " 2   price          21613 non-null  float64\n",
      " 3   bedrooms       21613 non-null  int64  \n",
      " 4   bathrooms      21613 non-null  float64\n",
      " 5   sqft_living    21613 non-null  int64  \n",
      " 6   sqft_lot       21613 non-null  int64  \n",
      " 7   floors         21613 non-null  float64\n",
      " 8   waterfront     21613 non-null  int64  \n",
      " 9   view           21613 non-null  int64  \n",
      " 10  condition      21613 non-null  int64  \n",
      " 11  grade          21613 non-null  int64  \n",
      " 12  sqft_above     21613 non-null  int64  \n",
      " 13  sqft_basement  21613 non-null  int64  \n",
      " 14  yr_built       21613 non-null  int64  \n",
      " 15  yr_renovated   21613 non-null  int64  \n",
      " 16  zipcode        21613 non-null  int64  \n",
      " 17  lat            21613 non-null  float64\n",
      " 18  long           21613 non-null  float64\n",
      " 19  sqft_living15  21613 non-null  int64  \n",
      " 20  sqft_lot15     21613 non-null  int64  \n",
      "dtypes: float64(5), int64(15), object(1)\n",
      "memory usage: 3.5+ MB\n"
     ]
    }
   ],
   "source": [
    "df.info()"
   ]
  },
  {
   "cell_type": "markdown",
   "metadata": {},
   "source": [
    "## MORE ABOUT THESE HOUSES "
   ]
  },
  {
   "cell_type": "markdown",
   "metadata": {},
   "source": [
    "We will explore the features or qualities that define the houses located in King County, USA."
   ]
  },
  {
   "cell_type": "markdown",
   "metadata": {},
   "source": [
    " ### PRICES"
   ]
  },
  {
   "cell_type": "markdown",
   "metadata": {},
   "source": [
    "The respective average, maximum, and minimum prices for houses in King County, USA, are as follows\n"
   ]
  },
  {
   "cell_type": "code",
   "execution_count": 119,
   "metadata": {},
   "outputs": [
    {
     "data": {
      "text/plain": [
       "75000.0"
      ]
     },
     "execution_count": 119,
     "metadata": {},
     "output_type": "execute_result"
    }
   ],
   "source": [
    "# Distribution\n",
    "df['price'].min(), df['price'].max()\n",
    "# (75000.0, 7700000.0)\n",
    "# Most Common Price\n",
    "df['price'].value_counts().idxmax()\n",
    "# 450000.0\n",
    "# Highest Price\n",
    "df['price'].max()\n",
    "# 7700000.0\n",
    "# Lowest Price\n",
    "df['price'].min()\n",
    "#75000.0\n",
    "\n"
   ]
  },
  {
   "cell_type": "markdown",
   "metadata": {},
   "source": [
    "We can now understand that the prices of these houses are relatively high, especially considering that the average price is around $540,000."
   ]
  },
  {
   "cell_type": "markdown",
   "metadata": {},
   "source": [
    "### DATES OF Purchase"
   ]
  },
  {
   "cell_type": "code",
   "execution_count": 59,
   "metadata": {},
   "outputs": [
    {
     "data": {
      "text/plain": [
       "Timestamp('2014-05-02 00:00:00')"
      ]
     },
     "execution_count": 59,
     "metadata": {},
     "output_type": "execute_result"
    }
   ],
   "source": [
    "\n",
    "# Distribution\n",
    "df['date'].min(), df['date'].max()\n",
    "#(Timestamp('2014-05-02 00:00:00'), Timestamp('2015-05-27 00:00:00'))\n",
    "# most_common_date OF PURCHASE\n",
    "df['date'].value_counts().idxmax()\n",
    "#Timestamp('2014-06-23 00:00:00')\n",
    "# LATEST_DATE OF PURCHASE\n",
    "df['date'].max()\n",
    "#Timestamp('2015-05-27 00:00:00')\n",
    "# earliest_date OF PURCHASE\n",
    "df['date'].min()\n",
    "# Timestamp('2014-05-02 00:00:00')\n",
    "\n"
   ]
  },
  {
   "cell_type": "markdown",
   "metadata": {},
   "source": [
    "We can see that the summer of 2014 was a great time for sales, as houses were sold quickly. This is clear from the fact that all the houses were sold within just one year, starting from the sale of the first house."
   ]
  },
  {
   "cell_type": "markdown",
   "metadata": {},
   "source": [
    "### Areas Of Houses"
   ]
  },
  {
   "cell_type": "code",
   "execution_count": 60,
   "metadata": {},
   "outputs": [
    {
     "data": {
      "text/plain": [
       "290"
      ]
     },
     "execution_count": 60,
     "metadata": {},
     "output_type": "execute_result"
    }
   ],
   "source": [
    "# Distrbution\n",
    "df['sqft_living'].min(),df['sqft_living'].max()\n",
    "# (290, 13540)\n",
    "#The most common living areas among the houses\n",
    "df['sqft_living'].value_counts().idxmax()\n",
    "# 1300\n",
    "#The largest living area among the houses.\n",
    "df['sqft_living'].max()\n",
    "# 13540 \n",
    "#The  smallest living area among the houses.\n",
    "df['sqft_living'].min()\n",
    "# 290\n"
   ]
  },
  {
   "cell_type": "markdown",
   "metadata": {},
   "source": [
    "We can see that these houses offer a variety of living areas, catering to the needs of most people. The living areas span a wide range, from 290 square feet to 13,540 square feet"
   ]
  },
  {
   "cell_type": "markdown",
   "metadata": {},
   "source": [
    "### WaterFront && View\n"
   ]
  },
  {
   "cell_type": "code",
   "execution_count": 120,
   "metadata": {},
   "outputs": [],
   "source": [
    "#\n",
    "df['waterfront'].value_counts()\n",
    "# 0    21450\n",
    "# 1      163\n",
    "view=dict(df['view'].value_counts())\n",
    "#{0: 19489, 2: 963, 3: 510, 1: 332, 4: 319}\n"
   ]
  },
  {
   "cell_type": "markdown",
   "metadata": {},
   "source": [
    "From this, we can identify that only a few houses are situated with waterfront or a view. Therefore, if you're searching for a suburban house, King County is your ideal choice."
   ]
  },
  {
   "cell_type": "markdown",
   "metadata": {},
   "source": [
    "### Condition of Houses"
   ]
  },
  {
   "cell_type": "code",
   "execution_count": 67,
   "metadata": {},
   "outputs": [
    {
     "data": {
      "text/plain": [
       "{3: 14031, 4: 5679, 5: 1701, 2: 172, 1: 30}"
      ]
     },
     "execution_count": 67,
     "metadata": {},
     "output_type": "execute_result"
    }
   ],
   "source": [
    "condition=dict(df['condition'].value_counts())\n",
    "# {3: 14031, 4: 5679, 5: 1701, 2: 172, 1: 30}\n"
   ]
  },
  {
   "cell_type": "markdown",
   "metadata": {},
   "source": [
    "The majority of houses fall under condition 3, indicating that a significant portion of the properties are in a moderately well-maintained state. These houses could be suitable for buyers who value a balance between cost and condition."
   ]
  },
  {
   "cell_type": "markdown",
   "metadata": {},
   "source": [
    "### RANKING OF HOUSES (GRADE )"
   ]
  },
  {
   "cell_type": "code",
   "execution_count": null,
   "metadata": {},
   "outputs": [],
   "source": [
    "grades=dict(df['grade'].value_counts())\n",
    "# {7: 8981,\n",
    "#  8: 6068,\n",
    "#  9: 2615,\n",
    "#  6: 2038,\n",
    "#  10: 1134,\n",
    "#  11: 399,\n",
    "#  5: 242,\n",
    "#  12: 90,\n",
    "#  4: 29,\n",
    "#  13: 13,\n",
    "#  3: 3,\n",
    "#  1: 1}\n"
   ]
  },
  {
   "cell_type": "markdown",
   "metadata": {},
   "source": [
    "The majority of houses have grades 7 and 8, indicating good overall quality and features. There's also a diverse range of grades available, offering options for various preferences and budgets. "
   ]
  },
  {
   "cell_type": "markdown",
   "metadata": {},
   "source": [
    "## TRENDS AND PATTERNS"
   ]
  },
  {
   "cell_type": "markdown",
   "metadata": {},
   "source": [
    "## PRICE"
   ]
  },
  {
   "cell_type": "code",
   "execution_count": 89,
   "metadata": {},
   "outputs": [
    {
     "data": {
      "text/html": [
       "<div>\n",
       "<style scoped>\n",
       "    .dataframe tbody tr th:only-of-type {\n",
       "        vertical-align: middle;\n",
       "    }\n",
       "\n",
       "    .dataframe tbody tr th {\n",
       "        vertical-align: top;\n",
       "    }\n",
       "\n",
       "    .dataframe thead th {\n",
       "        text-align: right;\n",
       "    }\n",
       "</style>\n",
       "<table border=\"1\" class=\"dataframe\">\n",
       "  <thead>\n",
       "    <tr style=\"text-align: right;\">\n",
       "      <th></th>\n",
       "      <th>id</th>\n",
       "      <th>date</th>\n",
       "      <th>price</th>\n",
       "      <th>bedrooms</th>\n",
       "      <th>bathrooms</th>\n",
       "      <th>sqft_living</th>\n",
       "      <th>sqft_lot</th>\n",
       "      <th>floors</th>\n",
       "      <th>waterfront</th>\n",
       "      <th>view</th>\n",
       "      <th>...</th>\n",
       "      <th>sqft_above</th>\n",
       "      <th>sqft_basement</th>\n",
       "      <th>yr_built</th>\n",
       "      <th>yr_renovated</th>\n",
       "      <th>zipcode</th>\n",
       "      <th>lat</th>\n",
       "      <th>long</th>\n",
       "      <th>sqft_living15</th>\n",
       "      <th>sqft_lot15</th>\n",
       "      <th>bed_bath</th>\n",
       "    </tr>\n",
       "  </thead>\n",
       "  <tbody>\n",
       "    <tr>\n",
       "      <th>7252</th>\n",
       "      <td>6762700020</td>\n",
       "      <td>2014-10-13</td>\n",
       "      <td>7700000.0</td>\n",
       "      <td>6</td>\n",
       "      <td>8.00</td>\n",
       "      <td>12050</td>\n",
       "      <td>27600</td>\n",
       "      <td>2.5</td>\n",
       "      <td>0</td>\n",
       "      <td>3</td>\n",
       "      <td>...</td>\n",
       "      <td>8570</td>\n",
       "      <td>3480</td>\n",
       "      <td>1910</td>\n",
       "      <td>1987</td>\n",
       "      <td>98102</td>\n",
       "      <td>47.6298</td>\n",
       "      <td>-122.323</td>\n",
       "      <td>3940</td>\n",
       "      <td>8800</td>\n",
       "      <td>6 bed, 8.0 bath</td>\n",
       "    </tr>\n",
       "    <tr>\n",
       "      <th>3914</th>\n",
       "      <td>9808700762</td>\n",
       "      <td>2014-06-11</td>\n",
       "      <td>7060000.0</td>\n",
       "      <td>5</td>\n",
       "      <td>4.50</td>\n",
       "      <td>10040</td>\n",
       "      <td>37325</td>\n",
       "      <td>2.0</td>\n",
       "      <td>1</td>\n",
       "      <td>2</td>\n",
       "      <td>...</td>\n",
       "      <td>7680</td>\n",
       "      <td>2360</td>\n",
       "      <td>1940</td>\n",
       "      <td>2001</td>\n",
       "      <td>98004</td>\n",
       "      <td>47.6500</td>\n",
       "      <td>-122.214</td>\n",
       "      <td>3930</td>\n",
       "      <td>25449</td>\n",
       "      <td>5 bed, 4.5 bath</td>\n",
       "    </tr>\n",
       "    <tr>\n",
       "      <th>9254</th>\n",
       "      <td>9208900037</td>\n",
       "      <td>2014-09-19</td>\n",
       "      <td>6890000.0</td>\n",
       "      <td>6</td>\n",
       "      <td>7.75</td>\n",
       "      <td>9890</td>\n",
       "      <td>31374</td>\n",
       "      <td>2.0</td>\n",
       "      <td>0</td>\n",
       "      <td>4</td>\n",
       "      <td>...</td>\n",
       "      <td>8860</td>\n",
       "      <td>1030</td>\n",
       "      <td>2001</td>\n",
       "      <td>0</td>\n",
       "      <td>98039</td>\n",
       "      <td>47.6305</td>\n",
       "      <td>-122.240</td>\n",
       "      <td>4540</td>\n",
       "      <td>42730</td>\n",
       "      <td>6 bed, 7.75 bath</td>\n",
       "    </tr>\n",
       "    <tr>\n",
       "      <th>4411</th>\n",
       "      <td>2470100110</td>\n",
       "      <td>2014-08-04</td>\n",
       "      <td>5570000.0</td>\n",
       "      <td>5</td>\n",
       "      <td>5.75</td>\n",
       "      <td>9200</td>\n",
       "      <td>35069</td>\n",
       "      <td>2.0</td>\n",
       "      <td>0</td>\n",
       "      <td>0</td>\n",
       "      <td>...</td>\n",
       "      <td>6200</td>\n",
       "      <td>3000</td>\n",
       "      <td>2001</td>\n",
       "      <td>0</td>\n",
       "      <td>98039</td>\n",
       "      <td>47.6289</td>\n",
       "      <td>-122.233</td>\n",
       "      <td>3560</td>\n",
       "      <td>24345</td>\n",
       "      <td>5 bed, 5.75 bath</td>\n",
       "    </tr>\n",
       "    <tr>\n",
       "      <th>1448</th>\n",
       "      <td>8907500070</td>\n",
       "      <td>2015-04-13</td>\n",
       "      <td>5350000.0</td>\n",
       "      <td>5</td>\n",
       "      <td>5.00</td>\n",
       "      <td>8000</td>\n",
       "      <td>23985</td>\n",
       "      <td>2.0</td>\n",
       "      <td>0</td>\n",
       "      <td>4</td>\n",
       "      <td>...</td>\n",
       "      <td>6720</td>\n",
       "      <td>1280</td>\n",
       "      <td>2009</td>\n",
       "      <td>0</td>\n",
       "      <td>98004</td>\n",
       "      <td>47.6232</td>\n",
       "      <td>-122.220</td>\n",
       "      <td>4600</td>\n",
       "      <td>21750</td>\n",
       "      <td>5 bed, 5.0 bath</td>\n",
       "    </tr>\n",
       "    <tr>\n",
       "      <th>1315</th>\n",
       "      <td>7558700030</td>\n",
       "      <td>2015-04-13</td>\n",
       "      <td>5300000.0</td>\n",
       "      <td>6</td>\n",
       "      <td>6.00</td>\n",
       "      <td>7390</td>\n",
       "      <td>24829</td>\n",
       "      <td>2.0</td>\n",
       "      <td>1</td>\n",
       "      <td>4</td>\n",
       "      <td>...</td>\n",
       "      <td>5000</td>\n",
       "      <td>2390</td>\n",
       "      <td>1991</td>\n",
       "      <td>0</td>\n",
       "      <td>98040</td>\n",
       "      <td>47.5631</td>\n",
       "      <td>-122.210</td>\n",
       "      <td>4320</td>\n",
       "      <td>24619</td>\n",
       "      <td>6 bed, 6.0 bath</td>\n",
       "    </tr>\n",
       "    <tr>\n",
       "      <th>1164</th>\n",
       "      <td>1247600105</td>\n",
       "      <td>2014-10-20</td>\n",
       "      <td>5110000.0</td>\n",
       "      <td>5</td>\n",
       "      <td>5.25</td>\n",
       "      <td>8010</td>\n",
       "      <td>45517</td>\n",
       "      <td>2.0</td>\n",
       "      <td>1</td>\n",
       "      <td>4</td>\n",
       "      <td>...</td>\n",
       "      <td>5990</td>\n",
       "      <td>2020</td>\n",
       "      <td>1999</td>\n",
       "      <td>0</td>\n",
       "      <td>98033</td>\n",
       "      <td>47.6767</td>\n",
       "      <td>-122.211</td>\n",
       "      <td>3430</td>\n",
       "      <td>26788</td>\n",
       "      <td>5 bed, 5.25 bath</td>\n",
       "    </tr>\n",
       "    <tr>\n",
       "      <th>8092</th>\n",
       "      <td>1924059029</td>\n",
       "      <td>2014-06-17</td>\n",
       "      <td>4670000.0</td>\n",
       "      <td>5</td>\n",
       "      <td>6.75</td>\n",
       "      <td>9640</td>\n",
       "      <td>13068</td>\n",
       "      <td>1.0</td>\n",
       "      <td>1</td>\n",
       "      <td>4</td>\n",
       "      <td>...</td>\n",
       "      <td>4820</td>\n",
       "      <td>4820</td>\n",
       "      <td>1983</td>\n",
       "      <td>2009</td>\n",
       "      <td>98040</td>\n",
       "      <td>47.5570</td>\n",
       "      <td>-122.210</td>\n",
       "      <td>3270</td>\n",
       "      <td>10454</td>\n",
       "      <td>5 bed, 6.75 bath</td>\n",
       "    </tr>\n",
       "    <tr>\n",
       "      <th>2626</th>\n",
       "      <td>7738500731</td>\n",
       "      <td>2014-08-15</td>\n",
       "      <td>4500000.0</td>\n",
       "      <td>5</td>\n",
       "      <td>5.50</td>\n",
       "      <td>6640</td>\n",
       "      <td>40014</td>\n",
       "      <td>2.0</td>\n",
       "      <td>1</td>\n",
       "      <td>4</td>\n",
       "      <td>...</td>\n",
       "      <td>6350</td>\n",
       "      <td>290</td>\n",
       "      <td>2004</td>\n",
       "      <td>0</td>\n",
       "      <td>98155</td>\n",
       "      <td>47.7493</td>\n",
       "      <td>-122.280</td>\n",
       "      <td>3030</td>\n",
       "      <td>23408</td>\n",
       "      <td>5 bed, 5.5 bath</td>\n",
       "    </tr>\n",
       "    <tr>\n",
       "      <th>8638</th>\n",
       "      <td>3835500195</td>\n",
       "      <td>2014-06-18</td>\n",
       "      <td>4490000.0</td>\n",
       "      <td>4</td>\n",
       "      <td>3.00</td>\n",
       "      <td>6430</td>\n",
       "      <td>27517</td>\n",
       "      <td>2.0</td>\n",
       "      <td>0</td>\n",
       "      <td>0</td>\n",
       "      <td>...</td>\n",
       "      <td>6430</td>\n",
       "      <td>0</td>\n",
       "      <td>2001</td>\n",
       "      <td>0</td>\n",
       "      <td>98004</td>\n",
       "      <td>47.6208</td>\n",
       "      <td>-122.219</td>\n",
       "      <td>3720</td>\n",
       "      <td>14592</td>\n",
       "      <td>4 bed, 3.0 bath</td>\n",
       "    </tr>\n",
       "    <tr>\n",
       "      <th>12370</th>\n",
       "      <td>6065300370</td>\n",
       "      <td>2015-05-06</td>\n",
       "      <td>4210000.0</td>\n",
       "      <td>5</td>\n",
       "      <td>6.00</td>\n",
       "      <td>7440</td>\n",
       "      <td>21540</td>\n",
       "      <td>2.0</td>\n",
       "      <td>0</td>\n",
       "      <td>0</td>\n",
       "      <td>...</td>\n",
       "      <td>5550</td>\n",
       "      <td>1890</td>\n",
       "      <td>2003</td>\n",
       "      <td>0</td>\n",
       "      <td>98006</td>\n",
       "      <td>47.5692</td>\n",
       "      <td>-122.189</td>\n",
       "      <td>4740</td>\n",
       "      <td>19329</td>\n",
       "      <td>5 bed, 6.0 bath</td>\n",
       "    </tr>\n",
       "    <tr>\n",
       "      <th>4149</th>\n",
       "      <td>6447300265</td>\n",
       "      <td>2014-10-14</td>\n",
       "      <td>4000000.0</td>\n",
       "      <td>4</td>\n",
       "      <td>5.50</td>\n",
       "      <td>7080</td>\n",
       "      <td>16573</td>\n",
       "      <td>2.0</td>\n",
       "      <td>0</td>\n",
       "      <td>0</td>\n",
       "      <td>...</td>\n",
       "      <td>5760</td>\n",
       "      <td>1320</td>\n",
       "      <td>2008</td>\n",
       "      <td>0</td>\n",
       "      <td>98039</td>\n",
       "      <td>47.6151</td>\n",
       "      <td>-122.224</td>\n",
       "      <td>3140</td>\n",
       "      <td>15996</td>\n",
       "      <td>4 bed, 5.5 bath</td>\n",
       "    </tr>\n",
       "    <tr>\n",
       "      <th>2085</th>\n",
       "      <td>8106100105</td>\n",
       "      <td>2014-11-14</td>\n",
       "      <td>3850000.0</td>\n",
       "      <td>4</td>\n",
       "      <td>4.25</td>\n",
       "      <td>5770</td>\n",
       "      <td>21300</td>\n",
       "      <td>2.0</td>\n",
       "      <td>1</td>\n",
       "      <td>4</td>\n",
       "      <td>...</td>\n",
       "      <td>5770</td>\n",
       "      <td>0</td>\n",
       "      <td>1980</td>\n",
       "      <td>0</td>\n",
       "      <td>98040</td>\n",
       "      <td>47.5850</td>\n",
       "      <td>-122.222</td>\n",
       "      <td>4620</td>\n",
       "      <td>22748</td>\n",
       "      <td>4 bed, 4.25 bath</td>\n",
       "    </tr>\n",
       "    <tr>\n",
       "      <th>7035</th>\n",
       "      <td>853200010</td>\n",
       "      <td>2014-07-01</td>\n",
       "      <td>3800000.0</td>\n",
       "      <td>5</td>\n",
       "      <td>5.50</td>\n",
       "      <td>7050</td>\n",
       "      <td>42840</td>\n",
       "      <td>1.0</td>\n",
       "      <td>0</td>\n",
       "      <td>2</td>\n",
       "      <td>...</td>\n",
       "      <td>4320</td>\n",
       "      <td>2730</td>\n",
       "      <td>1978</td>\n",
       "      <td>0</td>\n",
       "      <td>98004</td>\n",
       "      <td>47.6229</td>\n",
       "      <td>-122.220</td>\n",
       "      <td>5070</td>\n",
       "      <td>20570</td>\n",
       "      <td>5 bed, 5.5 bath</td>\n",
       "    </tr>\n",
       "    <tr>\n",
       "      <th>19017</th>\n",
       "      <td>2303900100</td>\n",
       "      <td>2014-09-11</td>\n",
       "      <td>3800000.0</td>\n",
       "      <td>3</td>\n",
       "      <td>4.25</td>\n",
       "      <td>5510</td>\n",
       "      <td>35000</td>\n",
       "      <td>2.0</td>\n",
       "      <td>0</td>\n",
       "      <td>4</td>\n",
       "      <td>...</td>\n",
       "      <td>4910</td>\n",
       "      <td>600</td>\n",
       "      <td>1997</td>\n",
       "      <td>0</td>\n",
       "      <td>98177</td>\n",
       "      <td>47.7296</td>\n",
       "      <td>-122.370</td>\n",
       "      <td>3430</td>\n",
       "      <td>45302</td>\n",
       "      <td>3 bed, 4.25 bath</td>\n",
       "    </tr>\n",
       "  </tbody>\n",
       "</table>\n",
       "<p>15 rows × 22 columns</p>\n",
       "</div>"
      ],
      "text/plain": [
       "               id       date      price  bedrooms  bathrooms  sqft_living  \\\n",
       "7252   6762700020 2014-10-13  7700000.0         6       8.00        12050   \n",
       "3914   9808700762 2014-06-11  7060000.0         5       4.50        10040   \n",
       "9254   9208900037 2014-09-19  6890000.0         6       7.75         9890   \n",
       "4411   2470100110 2014-08-04  5570000.0         5       5.75         9200   \n",
       "1448   8907500070 2015-04-13  5350000.0         5       5.00         8000   \n",
       "1315   7558700030 2015-04-13  5300000.0         6       6.00         7390   \n",
       "1164   1247600105 2014-10-20  5110000.0         5       5.25         8010   \n",
       "8092   1924059029 2014-06-17  4670000.0         5       6.75         9640   \n",
       "2626   7738500731 2014-08-15  4500000.0         5       5.50         6640   \n",
       "8638   3835500195 2014-06-18  4490000.0         4       3.00         6430   \n",
       "12370  6065300370 2015-05-06  4210000.0         5       6.00         7440   \n",
       "4149   6447300265 2014-10-14  4000000.0         4       5.50         7080   \n",
       "2085   8106100105 2014-11-14  3850000.0         4       4.25         5770   \n",
       "7035    853200010 2014-07-01  3800000.0         5       5.50         7050   \n",
       "19017  2303900100 2014-09-11  3800000.0         3       4.25         5510   \n",
       "\n",
       "       sqft_lot  floors  waterfront  view  ...  sqft_above  sqft_basement  \\\n",
       "7252      27600     2.5           0     3  ...        8570           3480   \n",
       "3914      37325     2.0           1     2  ...        7680           2360   \n",
       "9254      31374     2.0           0     4  ...        8860           1030   \n",
       "4411      35069     2.0           0     0  ...        6200           3000   \n",
       "1448      23985     2.0           0     4  ...        6720           1280   \n",
       "1315      24829     2.0           1     4  ...        5000           2390   \n",
       "1164      45517     2.0           1     4  ...        5990           2020   \n",
       "8092      13068     1.0           1     4  ...        4820           4820   \n",
       "2626      40014     2.0           1     4  ...        6350            290   \n",
       "8638      27517     2.0           0     0  ...        6430              0   \n",
       "12370     21540     2.0           0     0  ...        5550           1890   \n",
       "4149      16573     2.0           0     0  ...        5760           1320   \n",
       "2085      21300     2.0           1     4  ...        5770              0   \n",
       "7035      42840     1.0           0     2  ...        4320           2730   \n",
       "19017     35000     2.0           0     4  ...        4910            600   \n",
       "\n",
       "       yr_built  yr_renovated  zipcode      lat     long  sqft_living15  \\\n",
       "7252       1910          1987    98102  47.6298 -122.323           3940   \n",
       "3914       1940          2001    98004  47.6500 -122.214           3930   \n",
       "9254       2001             0    98039  47.6305 -122.240           4540   \n",
       "4411       2001             0    98039  47.6289 -122.233           3560   \n",
       "1448       2009             0    98004  47.6232 -122.220           4600   \n",
       "1315       1991             0    98040  47.5631 -122.210           4320   \n",
       "1164       1999             0    98033  47.6767 -122.211           3430   \n",
       "8092       1983          2009    98040  47.5570 -122.210           3270   \n",
       "2626       2004             0    98155  47.7493 -122.280           3030   \n",
       "8638       2001             0    98004  47.6208 -122.219           3720   \n",
       "12370      2003             0    98006  47.5692 -122.189           4740   \n",
       "4149       2008             0    98039  47.6151 -122.224           3140   \n",
       "2085       1980             0    98040  47.5850 -122.222           4620   \n",
       "7035       1978             0    98004  47.6229 -122.220           5070   \n",
       "19017      1997             0    98177  47.7296 -122.370           3430   \n",
       "\n",
       "       sqft_lot15          bed_bath  \n",
       "7252         8800   6 bed, 8.0 bath  \n",
       "3914        25449   5 bed, 4.5 bath  \n",
       "9254        42730  6 bed, 7.75 bath  \n",
       "4411        24345  5 bed, 5.75 bath  \n",
       "1448        21750   5 bed, 5.0 bath  \n",
       "1315        24619   6 bed, 6.0 bath  \n",
       "1164        26788  5 bed, 5.25 bath  \n",
       "8092        10454  5 bed, 6.75 bath  \n",
       "2626        23408   5 bed, 5.5 bath  \n",
       "8638        14592   4 bed, 3.0 bath  \n",
       "12370       19329   5 bed, 6.0 bath  \n",
       "4149        15996   4 bed, 5.5 bath  \n",
       "2085        22748  4 bed, 4.25 bath  \n",
       "7035        20570   5 bed, 5.5 bath  \n",
       "19017       45302  3 bed, 4.25 bath  \n",
       "\n",
       "[15 rows x 22 columns]"
      ]
     },
     "execution_count": 89,
     "metadata": {},
     "output_type": "execute_result"
    }
   ],
   "source": [
    " Phigh = df.nlargest(15, ['price', 'bedrooms', 'bathrooms','sqft_living','lat','long'])\n",
    "\n",
    " Phigh"
   ]
  },
  {
   "cell_type": "markdown",
   "metadata": {},
   "source": [
    "The houses with the highest prices possess the greatest number of bedrooms, bathrooms, and the largest living areas, along with higher grades and conditions."
   ]
  },
  {
   "cell_type": "markdown",
   "metadata": {},
   "source": [
    "### VINTAGE IS BETTER ?"
   ]
  },
  {
   "cell_type": "markdown",
   "metadata": {},
   "source": [
    "\"Houses constructed earlier exhibit higher prices, leading to the conclusion that the older a house is, the greater its value tends to be.\""
   ]
  },
  {
   "cell_type": "markdown",
   "metadata": {},
   "source": [
    "## GEOGRAPHY "
   ]
  },
  {
   "cell_type": "code",
   "execution_count": 123,
   "metadata": {},
   "outputs": [
    {
     "data": {
      "text/html": [
       "<div>\n",
       "<style scoped>\n",
       "    .dataframe tbody tr th:only-of-type {\n",
       "        vertical-align: middle;\n",
       "    }\n",
       "\n",
       "    .dataframe tbody tr th {\n",
       "        vertical-align: top;\n",
       "    }\n",
       "\n",
       "    .dataframe thead th {\n",
       "        text-align: right;\n",
       "    }\n",
       "</style>\n",
       "<table border=\"1\" class=\"dataframe\">\n",
       "  <thead>\n",
       "    <tr style=\"text-align: right;\">\n",
       "      <th></th>\n",
       "      <th>lat</th>\n",
       "      <th>long</th>\n",
       "    </tr>\n",
       "  </thead>\n",
       "  <tbody>\n",
       "    <tr>\n",
       "      <th>0</th>\n",
       "      <td>47.5112</td>\n",
       "      <td>-122.257</td>\n",
       "    </tr>\n",
       "    <tr>\n",
       "      <th>1</th>\n",
       "      <td>47.7210</td>\n",
       "      <td>-122.319</td>\n",
       "    </tr>\n",
       "    <tr>\n",
       "      <th>2</th>\n",
       "      <td>47.7379</td>\n",
       "      <td>-122.233</td>\n",
       "    </tr>\n",
       "    <tr>\n",
       "      <th>3</th>\n",
       "      <td>47.5208</td>\n",
       "      <td>-122.393</td>\n",
       "    </tr>\n",
       "    <tr>\n",
       "      <th>4</th>\n",
       "      <td>47.6168</td>\n",
       "      <td>-122.045</td>\n",
       "    </tr>\n",
       "    <tr>\n",
       "      <th>5</th>\n",
       "      <td>47.6561</td>\n",
       "      <td>-122.005</td>\n",
       "    </tr>\n",
       "    <tr>\n",
       "      <th>6</th>\n",
       "      <td>47.3097</td>\n",
       "      <td>-122.327</td>\n",
       "    </tr>\n",
       "    <tr>\n",
       "      <th>7</th>\n",
       "      <td>47.4095</td>\n",
       "      <td>-122.315</td>\n",
       "    </tr>\n",
       "    <tr>\n",
       "      <th>8</th>\n",
       "      <td>47.5123</td>\n",
       "      <td>-122.337</td>\n",
       "    </tr>\n",
       "    <tr>\n",
       "      <th>9</th>\n",
       "      <td>47.3684</td>\n",
       "      <td>-122.031</td>\n",
       "    </tr>\n",
       "    <tr>\n",
       "      <th>10</th>\n",
       "      <td>47.6007</td>\n",
       "      <td>-122.145</td>\n",
       "    </tr>\n",
       "    <tr>\n",
       "      <th>11</th>\n",
       "      <td>47.6900</td>\n",
       "      <td>-122.292</td>\n",
       "    </tr>\n",
       "    <tr>\n",
       "      <th>12</th>\n",
       "      <td>47.7558</td>\n",
       "      <td>-122.229</td>\n",
       "    </tr>\n",
       "    <tr>\n",
       "      <th>13</th>\n",
       "      <td>47.6127</td>\n",
       "      <td>-122.045</td>\n",
       "    </tr>\n",
       "    <tr>\n",
       "      <th>14</th>\n",
       "      <td>47.6700</td>\n",
       "      <td>-122.394</td>\n",
       "    </tr>\n",
       "    <tr>\n",
       "      <th>15</th>\n",
       "      <td>47.5714</td>\n",
       "      <td>-122.375</td>\n",
       "    </tr>\n",
       "    <tr>\n",
       "      <th>16</th>\n",
       "      <td>47.7277</td>\n",
       "      <td>-121.962</td>\n",
       "    </tr>\n",
       "    <tr>\n",
       "      <th>17</th>\n",
       "      <td>47.6648</td>\n",
       "      <td>-122.343</td>\n",
       "    </tr>\n",
       "    <tr>\n",
       "      <th>18</th>\n",
       "      <td>47.3089</td>\n",
       "      <td>-122.210</td>\n",
       "    </tr>\n",
       "    <tr>\n",
       "      <th>19</th>\n",
       "      <td>47.3343</td>\n",
       "      <td>-122.306</td>\n",
       "    </tr>\n",
       "  </tbody>\n",
       "</table>\n",
       "</div>"
      ],
      "text/plain": [
       "        lat     long\n",
       "0   47.5112 -122.257\n",
       "1   47.7210 -122.319\n",
       "2   47.7379 -122.233\n",
       "3   47.5208 -122.393\n",
       "4   47.6168 -122.045\n",
       "5   47.6561 -122.005\n",
       "6   47.3097 -122.327\n",
       "7   47.4095 -122.315\n",
       "8   47.5123 -122.337\n",
       "9   47.3684 -122.031\n",
       "10  47.6007 -122.145\n",
       "11  47.6900 -122.292\n",
       "12  47.7558 -122.229\n",
       "13  47.6127 -122.045\n",
       "14  47.6700 -122.394\n",
       "15  47.5714 -122.375\n",
       "16  47.7277 -121.962\n",
       "17  47.6648 -122.343\n",
       "18  47.3089 -122.210\n",
       "19  47.3343 -122.306"
      ]
     },
     "execution_count": 123,
     "metadata": {},
     "output_type": "execute_result"
    }
   ],
   "source": [
    "df[['lat','long']].head(20)\n"
   ]
  },
  {
   "cell_type": "markdown",
   "metadata": {},
   "source": [
    "location\n",
    "Location: Seattle, WA, US\n",
    "County: King, WA\n"
   ]
  },
  {
   "cell_type": "markdown",
   "metadata": {},
   "source": [
    "## PART 4"
   ]
  },
  {
   "cell_type": "code",
   "execution_count": 131,
   "metadata": {},
   "outputs": [
    {
     "name": "stdout",
     "output_type": "stream",
     "text": [
      "0        1\n",
      "1        2\n",
      "2        1\n",
      "3        3\n",
      "4        2\n",
      "        ..\n",
      "21608    2\n",
      "21609    2\n",
      "21610    0\n",
      "21611    2\n",
      "21612    0\n",
      "Name: bathrooms, Length: 21613, dtype: int32\n",
      "0        1180.0\n",
      "1        2570.0\n",
      "2         770.0\n",
      "3        1960.0\n",
      "4        1680.0\n",
      "          ...  \n",
      "21608    1530.0\n",
      "21609    2310.0\n",
      "21610    1020.0\n",
      "21611    1600.0\n",
      "21612    1020.0\n",
      "Name: sqft_living, Length: 21613, dtype: float64\n"
     ]
    }
   ],
   "source": [
    "# Convert the 'bathrooms' column to integer data type\n",
    "df['bathrooms'] = df['bathrooms'].astype(int)\n",
    "# Print the 'bathrooms' column to check the changes\n",
    "print(df['bathrooms'])\n",
    "# Convert the 'sqft_living' column to float data type\n",
    "df['sqft_living'] = df['sqft_living'].astype(float)\n",
    "# Print the 'sqft_living' column to check the changes\n",
    "print(df['sqft_living'])\n"
   ]
  },
  {
   "cell_type": "markdown",
   "metadata": {},
   "source": [
    "## PART 2"
   ]
  },
  {
   "cell_type": "markdown",
   "metadata": {},
   "source": [
    " In this part he data I was working on is from the book 'Introduction to Data Science' by Laura Igual and Santi Seguí.\""
   ]
  },
  {
   "cell_type": "code",
   "execution_count": 116,
   "metadata": {},
   "outputs": [
    {
     "name": "stdout",
     "output_type": "stream",
     "text": [
      "     TIME                            GEO  Value\n",
      "0    2000  European Union (28 countries)    NaN\n",
      "1    2001  European Union (28 countries)    NaN\n",
      "2    2002  European Union (28 countries)   5.00\n",
      "3    2003  European Union (28 countries)   5.03\n",
      "4    2004  European Union (28 countries)   4.95\n",
      "..    ...                            ...    ...\n",
      "379  2007                        Finland   5.90\n",
      "380  2008                        Finland   6.10\n",
      "381  2009                        Finland   6.81\n",
      "382  2010                        Finland   6.85\n",
      "383  2011                        Finland   6.76\n",
      "\n",
      "[384 rows x 3 columns]\n",
      "   TIME                            GEO  Value\n",
      "0  2000  European Union (28 countries)    NaN\n",
      "1  2001  European Union (28 countries)    NaN\n",
      "2  2002  European Union (28 countries)   5.00\n",
      "3  2003  European Union (28 countries)   5.03\n",
      "4  2004  European Union (28 countries)   4.95\n",
      "     TIME      GEO  Value\n",
      "379  2007  Finland   5.90\n",
      "380  2008  Finland   6.10\n",
      "381  2009  Finland   6.81\n",
      "382  2010  Finland   6.85\n",
      "383  2011  Finland   6.76\n",
      "              TIME       Value\n",
      "count   384.000000  361.000000\n",
      "mean   2005.500000    5.203989\n",
      "std       3.456556    1.021694\n",
      "min    2000.000000    2.880000\n",
      "25%    2002.750000    4.620000\n",
      "50%    2005.500000    5.060000\n",
      "75%    2008.250000    5.660000\n",
      "max    2011.000000    8.810000\n"
     ]
    }
   ],
   "source": [
    "edu = pd.read_csv('C:\\\\Users\\\\Lenovo\\\\Desktop\\\\Data Sc\\\\LIBRARY\\\\DS\\\\educ_figdp_1_Data.csv', na_values=':', usecols=[\"TIME\", \"GEO\", \"Value\"])#the code reads the CSV file located at the given file path, treats \":\" as missing values, and selects only the columns \"TIME\", \"GEO\", and \"Value\" from the file. The resulting DataFrame, edu, will contain the data from these selected columns.\n",
    "\n",
    "print(edu)\n",
    "print(edu.head())#shows first 5 records\n",
    "print(edu.tail())#shows last 5 records\n",
    "print(edu.describe())#describe the data such mean std max etc ...."
   ]
  },
  {
   "cell_type": "code",
   "execution_count": 101,
   "metadata": {},
   "outputs": [
    {
     "name": "stderr",
     "output_type": "stream",
     "text": [
      "C:\\Users\\Lenovo\\AppData\\Local\\Temp\\ipykernel_14624\\2901153984.py:8: FutureWarning: Dropping of nuisance columns in DataFrame reductions (with 'numeric_only=None') is deprecated; in a future version this will raise TypeError.  Select only valid columns before calling the reduction.\n",
      "  edu.max(axis=1)#retrive max value for eaxh row\n"
     ]
    },
    {
     "data": {
      "text/plain": [
       "0      2000.0\n",
       "1      2001.0\n",
       "2      2002.0\n",
       "3      2003.0\n",
       "4      2004.0\n",
       "        ...  \n",
       "379    2007.0\n",
       "380    2008.0\n",
       "381    2009.0\n",
       "382    2010.0\n",
       "383    2011.0\n",
       "Length: 384, dtype: float64"
      ]
     },
     "execution_count": 101,
     "metadata": {},
     "output_type": "execute_result"
    }
   ],
   "source": [
    "edu['Value']#retrieve column\n",
    "edu[10:14]#slice rows\n",
    "edu.loc[90:94, ['TIME', 'GEO']]# Select rows 90 to 94 (inclusive) and columns 'TIME' and 'GEO' from the DataFrame 'edu'\n",
    "edu[edu['Value'] > 6.5].tail()\n",
    "edu[(edu['TIME'] > 2009) & (edu['Value'] > 6.5)].tail()\n",
    "edu[edu[\"Value\"]. isnull ()]. head ()#b,b2,bn, retrieves data from df according to certain conditions where b use boolean value ,b2 uses 2 condition,while bn to select null values \n",
    "edu.max(axis=0)#retrive max value of eaxh column\n",
    "edu.max(axis=1)#retrive max value for eaxh row\n"
   ]
  },
  {
   "cell_type": "code",
   "execution_count": 102,
   "metadata": {},
   "outputs": [
    {
     "name": "stdout",
     "output_type": "stream",
     "text": [
      "     TIME      GEO  Value  ValueNorm\n",
      "379  2007  Finland   5.90   0.669694\n",
      "380  2008  Finland   6.10   0.692395\n",
      "381  2009  Finland   6.81   0.772985\n",
      "382  2010  Finland   6.85   0.777526\n",
      "383  2011  Finland   6.76   0.767310\n"
     ]
    },
    {
     "data": {
      "text/plain": [
       "0        NaN\n",
       "1        NaN\n",
       "2    25.0000\n",
       "3    25.3009\n",
       "4    24.5025\n",
       "Name: Value, dtype: float64"
      ]
     },
     "execution_count": 102,
     "metadata": {},
     "output_type": "execute_result"
    }
   ],
   "source": [
    "s2=(edu[\"Value\"]/100).head()#select and devide over 100 first few rows of  single column\n",
    "s3=(edu[\"Value\"].apply(np.sqrt)).head()#select and apply function tofirst rows of column\n",
    "s4 =( edu[\"Value\"].apply(lambda d: d ** 2)).head()#use lamda function: Lambda functions are anonymous functions that can be defined inline and are commonly used in situations where a small, one-line function is needed\n",
    "edu['ValueNorm'] = (edu['Value'] / edu['Value'].max())\n",
    "print(edu.tail())\n",
    "s2\n",
    "s3\n",
    "s4"
   ]
  },
  {
   "cell_type": "markdown",
   "metadata": {},
   "source": [
    "## PART 3"
   ]
  },
  {
   "cell_type": "code",
   "execution_count": 104,
   "metadata": {},
   "outputs": [
    {
     "name": "stdout",
     "output_type": "stream",
     "text": [
      "     Name  Age  Score\n",
      "0    John   25     80\n",
      "1  George   26     90\n",
      "2    Sami   27     70\n",
      "3    Nada   28     60\n"
     ]
    }
   ],
   "source": [
    "import pandas as pd\n",
    "\n",
    "\n",
    "# Create a dictionary of lists\n",
    "data = {\n",
    "    \"Name\": [\"John\", \"George\", \"Sami\", \"Nada\"],\n",
    "    \"Age\": [25, 26, 27, 28],\n",
    "    \"Score\": [80, 90, 70, 60],\n",
    "}\n",
    "# Create a Pandas DataFrame from the dictionary\n",
    "df = pd.DataFrame(data)\n",
    "print(df)\n"
   ]
  },
  {
   "cell_type": "code",
   "execution_count": 106,
   "metadata": {},
   "outputs": [
    {
     "name": "stdout",
     "output_type": "stream",
     "text": [
      "   Name  Age  Score\n",
      "0  John   25     86\n",
      "1  Nada   25     94\n",
      "2  Nada   28     90\n",
      "3  John   21     90\n"
     ]
    }
   ],
   "source": [
    "import numpy as np\n",
    "# Create a dictionary of lists with random values\n",
    "data = {\n",
    "    \"Name\": np.random.choice([\"John\", \"George\", \"Sami\", \"Nada\"], 4),\n",
    "    \"Age\": np.random.randint(20, 30, 4),\n",
    "    \"Score\": np.random.randint(60, 100, 4),\n",
    "}\n",
    "\n",
    "# Create a Pandas DataFrame from the dictionary\n",
    "df = pd.DataFrame(data)\n",
    "print(df)\n"
   ]
  },
  {
   "cell_type": "code",
   "execution_count": 109,
   "metadata": {},
   "outputs": [
    {
     "name": "stdout",
     "output_type": "stream",
     "text": [
      "   name  age  score\n",
      "0  Nada   27     78\n",
      "1  Nada   22     81\n",
      "2  John   25     60\n",
      "3  Sami   23     72\n"
     ]
    }
   ],
   "source": [
    "# Create a dictionary of lists with random values and specify the column names\n",
    "data = {\n",
    "    \"name\": np.random.choice([\"John\", \"George\", \"Sami\", \"Nada\"], 4),\n",
    "    \"age\": np.random.randint(20, 30, 4),\n",
    "    \"score\": np.random.randint(60, 100, 4),\n",
    "}\n",
    "\n",
    "# Create a Pandas DataFrame from the dictionary\n",
    "df = pd.DataFrame(data, columns=[\"name\", \"age\", \"score\"])\n",
    "print(df)\n"
   ]
  },
  {
   "cell_type": "code",
   "execution_count": 133,
   "metadata": {
    "vscode": {
     "languageId": "powershell"
    }
   },
   "outputs": [
    {
     "ename": "SyntaxError",
     "evalue": "invalid syntax (3081662196.py, line 1)",
     "output_type": "error",
     "traceback": [
      "\u001b[1;36m  Cell \u001b[1;32mIn[133], line 1\u001b[1;36m\u001b[0m\n\u001b[1;33m    git add.\u001b[0m\n\u001b[1;37m        ^\u001b[0m\n\u001b[1;31mSyntaxError\u001b[0m\u001b[1;31m:\u001b[0m invalid syntax\n"
     ]
    }
   ],
   "source": []
  },
  {
   "cell_type": "code",
   "execution_count": null,
   "metadata": {
    "vscode": {
     "languageId": "bat"
    }
   },
   "outputs": [],
   "source": []
  }
 ],
 "metadata": {
  "kernelspec": {
   "display_name": "base",
   "language": "python",
   "name": "python3"
  },
  "language_info": {
   "codemirror_mode": {
    "name": "ipython",
    "version": 3
   },
   "file_extension": ".py",
   "mimetype": "text/x-python",
   "name": "python",
   "nbconvert_exporter": "python",
   "pygments_lexer": "ipython3",
   "version": "3.10.9"
  },
  "orig_nbformat": 4
 },
 "nbformat": 4,
 "nbformat_minor": 2
}
